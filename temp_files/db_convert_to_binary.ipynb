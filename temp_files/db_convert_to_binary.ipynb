{
 "cells": [
  {
   "cell_type": "code",
   "execution_count": 20,
   "metadata": {},
   "outputs": [],
   "source": [
    "import pandas as pd\n"
   ]
  },
  {
   "cell_type": "code",
   "execution_count": null,
   "metadata": {},
   "outputs": [],
   "source": [
    "\n",
    "def extract_bytes(df, num_bytes):\n",
    "    \"\"\"\n",
    "    Extracts data from a DataFrame and converts it into a list of bytes.\n",
    "\n",
    "    Parameters:\n",
    "    - df: pandas DataFrame containing columns for 'name', 'start_bit', 'length', and 'data'.\n",
    "    - num_bytes: The number of bytes to extract.\n",
    "\n",
    "    Returns:\n",
    "    - A list of bytes in hexadecimal format.\n",
    "    \"\"\"\n",
    "\n",
    "    # Calculate the total number of bits needed\n",
    "    total_bits = num_bytes * 8\n",
    "\n",
    "    # Initialize a binary string filled with zeros\n",
    "    binary_string = '0' * total_bits\n",
    "\n",
    "    # Iterate over each row in the DataFrame\n",
    "    for index, row in df.iterrows():\n",
    "        start_bit = row['start_bit']\n",
    "        length = row['length']\n",
    "        data = row['data']\n",
    "\n",
    "        # Convert the data to binary and remove any '0b' prefix\n",
    "        bin_data = bin(data)[2:].zfill(length)\n",
    "\n",
    "        # Place the binary data into the correct position in the binary string\n",
    "        binary_string = binary_string[:start_bit] + bin_data + binary_string[start_bit + length:]\n",
    "\n",
    "    # Split the binary string into bytes\n",
    "    byte_strings = [binary_string[i:i+8] for i in range(0, total_bits, 8)]\n",
    "\n",
    "    # Convert each byte string to an integer and then to hexadecimal\n",
    "    hex_bytes = [int(byte, 2) for byte in byte_strings]\n",
    "\n",
    "    return hex_bytes\n"
   ]
  },
  {
   "cell_type": "code",
   "execution_count": 52,
   "metadata": {},
   "outputs": [
    {
     "name": "stdout",
     "output_type": "stream",
     "text": [
      "[62, 0, 0, 0, 0, 0, 8, 0]\n",
      "62\n",
      "111110\n",
      "0x3e\n"
     ]
    }
   ],
   "source": [
    "\n",
    "# Example usage:\n",
    "data = {\n",
    "    'name': ['a', 'b', 'c'],\n",
    "    'start_bit': [2, 3, 52],\n",
    "    'length': [1, 4, 2],\n",
    "    'data': [1, 15, 2]\n",
    "}\n",
    "df = pd.DataFrame(data)\n",
    "\n",
    "num_bytes = 8\n",
    "result = extract_bytes(df, num_bytes)\n",
    "\n",
    "print(result)\n",
    "print(result[0])\n",
    "print(bin(result[0])[2:])\n",
    "print(hex(result[0]))\n",
    "\n"
   ]
  },
  {
   "cell_type": "code",
   "execution_count": 53,
   "metadata": {},
   "outputs": [
    {
     "data": {
      "text/html": [
       "<div>\n",
       "<style scoped>\n",
       "    .dataframe tbody tr th:only-of-type {\n",
       "        vertical-align: middle;\n",
       "    }\n",
       "\n",
       "    .dataframe tbody tr th {\n",
       "        vertical-align: top;\n",
       "    }\n",
       "\n",
       "    .dataframe thead th {\n",
       "        text-align: right;\n",
       "    }\n",
       "</style>\n",
       "<table border=\"1\" class=\"dataframe\">\n",
       "  <thead>\n",
       "    <tr style=\"text-align: right;\">\n",
       "      <th></th>\n",
       "      <th>name</th>\n",
       "      <th>start_bit</th>\n",
       "      <th>length</th>\n",
       "      <th>data</th>\n",
       "    </tr>\n",
       "  </thead>\n",
       "  <tbody>\n",
       "    <tr>\n",
       "      <th>0</th>\n",
       "      <td>a</td>\n",
       "      <td>2</td>\n",
       "      <td>1</td>\n",
       "      <td>1</td>\n",
       "    </tr>\n",
       "    <tr>\n",
       "      <th>1</th>\n",
       "      <td>b</td>\n",
       "      <td>3</td>\n",
       "      <td>4</td>\n",
       "      <td>15</td>\n",
       "    </tr>\n",
       "    <tr>\n",
       "      <th>2</th>\n",
       "      <td>c</td>\n",
       "      <td>52</td>\n",
       "      <td>2</td>\n",
       "      <td>2</td>\n",
       "    </tr>\n",
       "  </tbody>\n",
       "</table>\n",
       "</div>"
      ],
      "text/plain": [
       "  name  start_bit  length  data\n",
       "0    a          2       1     1\n",
       "1    b          3       4    15\n",
       "2    c         52       2     2"
      ]
     },
     "execution_count": 53,
     "metadata": {},
     "output_type": "execute_result"
    }
   ],
   "source": [
    "df"
   ]
  },
  {
   "cell_type": "code",
   "execution_count": 4,
   "metadata": {},
   "outputs": [],
   "source": [
    "import ipywidgets as widgets\n",
    "from IPython.display import display"
   ]
  },
  {
   "cell_type": "code",
   "execution_count": 5,
   "metadata": {},
   "outputs": [
    {
     "data": {
      "application/vnd.jupyter.widget-view+json": {
       "model_id": "49db24f59ae4480a92519c489cbe72ff",
       "version_major": 2,
       "version_minor": 0
      },
      "text/plain": [
       "IntSlider(value=0)"
      ]
     },
     "metadata": {},
     "output_type": "display_data"
    }
   ],
   "source": [
    "w = widgets.IntSlider()\n",
    "display(w)"
   ]
  },
  {
   "cell_type": "code",
   "execution_count": 9,
   "metadata": {},
   "outputs": [
    {
     "data": {
      "text/plain": [
       "81"
      ]
     },
     "execution_count": 9,
     "metadata": {},
     "output_type": "execute_result"
    }
   ],
   "source": [
    "w.value"
   ]
  },
  {
   "cell_type": "code",
   "execution_count": 11,
   "metadata": {},
   "outputs": [
    {
     "data": {
      "application/vnd.jupyter.widget-view+json": {
       "model_id": "95858a526f944c0c81e1d445e647ecec",
       "version_major": 2,
       "version_minor": 0
      },
      "text/plain": [
       "FloatText(value=0.0)"
      ]
     },
     "metadata": {},
     "output_type": "display_data"
    },
    {
     "data": {
      "application/vnd.jupyter.widget-view+json": {
       "model_id": "555c7a7abbbb488f96fcf261d7e2dab8",
       "version_major": 2,
       "version_minor": 0
      },
      "text/plain": [
       "FloatSlider(value=0.0)"
      ]
     },
     "metadata": {},
     "output_type": "display_data"
    }
   ],
   "source": [
    "a = widgets.FloatText()\n",
    "b = widgets.FloatSlider()\n",
    "display(a,b)\n",
    "\n",
    "mylink = widgets.jslink((a, 'value'), (b, 'value'))"
   ]
  },
  {
   "cell_type": "code",
   "execution_count": 12,
   "metadata": {},
   "outputs": [
    {
     "data": {
      "application/vnd.jupyter.widget-view+json": {
       "model_id": "9663665063ce4b9287f2e9356b517f52",
       "version_major": 2,
       "version_minor": 0
      },
      "text/plain": [
       "ToggleButton(value=False, description='Click me', icon='check', tooltip='Description')"
      ]
     },
     "metadata": {},
     "output_type": "display_data"
    }
   ],
   "source": [
    "widgets.ToggleButton(\n",
    "    value=False,\n",
    "    description='Click me',\n",
    "    disabled=False,\n",
    "    button_style='', # 'success', 'info', 'warning', 'danger' or ''\n",
    "    tooltip='Description',\n",
    "    icon='check' # (FontAwesome names without the `fa-` prefix)\n",
    ")"
   ]
  },
  {
   "cell_type": "code",
   "execution_count": 13,
   "metadata": {},
   "outputs": [
    {
     "data": {
      "application/vnd.jupyter.widget-view+json": {
       "model_id": "912cf1aac28f495e98bae4491e2215e3",
       "version_major": 2,
       "version_minor": 0
      },
      "text/plain": [
       "Checkbox(value=False, description='Check me', indent=False)"
      ]
     },
     "metadata": {},
     "output_type": "display_data"
    }
   ],
   "source": [
    "widgets.Checkbox(\n",
    "    value=False,\n",
    "    description='Check me',\n",
    "    disabled=False,\n",
    "    indent=False\n",
    ")"
   ]
  },
  {
   "cell_type": "code",
   "execution_count": 14,
   "metadata": {},
   "outputs": [
    {
     "data": {
      "application/vnd.jupyter.widget-view+json": {
       "model_id": "33055944b4ad4380920c06b00805c71d",
       "version_major": 2,
       "version_minor": 0
      },
      "text/plain": [
       "Dropdown(description='Number:', index=1, options=('1', '2', '3'), value='2')"
      ]
     },
     "metadata": {},
     "output_type": "display_data"
    }
   ],
   "source": [
    "widgets.Dropdown(\n",
    "    options=['1', '2', '3'],\n",
    "    value='2',\n",
    "    description='Number:',\n",
    "    disabled=False,\n",
    ")\n"
   ]
  },
  {
   "cell_type": "code",
   "execution_count": 15,
   "metadata": {},
   "outputs": [],
   "source": [
    "from tkinter import *"
   ]
  },
  {
   "cell_type": "code",
   "execution_count": 17,
   "metadata": {},
   "outputs": [],
   "source": [
    "from tkinter import *\n",
    "from tkinter import ttk\n",
    "root = Tk()\n",
    "frm = ttk.Frame(root, padding=10)\n",
    "frm.grid()\n",
    "ttk.Label(frm, text=\"Hello World!\").grid(column=0, row=0)\n",
    "ttk.Button(frm, text=\"Quit\", command=root.destroy).grid(column=1, row=0)\n",
    "root.mainloop()"
   ]
  },
  {
   "cell_type": "code",
   "execution_count": 18,
   "metadata": {},
   "outputs": [
    {
     "name": "stdout",
     "output_type": "stream",
     "text": [
      "Hi. The current entry content is: 12\n",
      "Hi. The current entry content is: 12\n",
      "Hi. The current entry content is: 12\n",
      "Hi. The current entry content is: 9\n",
      "Hi. The current entry content is: 49+8\n"
     ]
    }
   ],
   "source": [
    "import tkinter as tk\n",
    "\n",
    "class App(tk.Frame):\n",
    "    def __init__(self, master):\n",
    "        super().__init__(master)\n",
    "        self.pack()\n",
    "\n",
    "        self.entrythingy = tk.Entry()\n",
    "        self.entrythingy.pack()\n",
    "\n",
    "        # Create the application variable.\n",
    "        self.contents = tk.StringVar()\n",
    "        # Set it to some value.\n",
    "        self.contents.set(\"this is a variable\")\n",
    "        # Tell the entry widget to watch this variable.\n",
    "        self.entrythingy[\"textvariable\"] = self.contents\n",
    "\n",
    "        # Define a callback for when the user hits return.\n",
    "        # It prints the current value of the variable.\n",
    "        self.entrythingy.bind('<Key-Return>',\n",
    "                             self.print_contents)\n",
    "\n",
    "    def print_contents(self, event):\n",
    "        print(\"Hi. The current entry content is:\",\n",
    "              self.contents.get())\n",
    "\n",
    "root = tk.Tk()\n",
    "myapp = App(root)\n",
    "myapp.mainloop()"
   ]
  },
  {
   "cell_type": "code",
   "execution_count": 19,
   "metadata": {},
   "outputs": [],
   "source": [
    "import tkinter as tk\n",
    "\n",
    "class App(tk.Frame):\n",
    "    def __init__(self, master=None):\n",
    "        super().__init__(master)\n",
    "        self.pack()\n",
    "\n",
    "# create the application\n",
    "myapp = App()\n",
    "\n",
    "#\n",
    "# here are method calls to the window manager class\n",
    "#\n",
    "myapp.master.title(\"My Do-Nothing Application\")\n",
    "myapp.master.maxsize(1000, 400)\n",
    "\n",
    "# start the program\n",
    "myapp.mainloop()"
   ]
  },
  {
   "cell_type": "code",
   "execution_count": 20,
   "metadata": {},
   "outputs": [],
   "source": [
    "import tkinter as tk\n",
    "from tkinter import messagebox\n",
    "import smtplib\n",
    "from email.message import EmailMessage\n",
    "\n",
    "class EmailForm:\n",
    "    def __init__(self, root):\n",
    "        self.root = root\n",
    "        self.root.title(\"Email Form\")\n",
    "        self.root.geometry(\"500x400\")\n",
    "\n",
    "        # Create frame for form elements\n",
    "        self.form_frame = tk.Frame(self.root, padx=20, pady=20)\n",
    "        self.form_frame.pack()\n",
    "\n",
    "        # Create labels and entry fields\n",
    "        self.sender_label = tk.Label(self.form_frame, text=\"Sender's Email:\")\n",
    "        self.sender_label.grid(row=0, column=0, sticky=\"w\")\n",
    "        self.sender_entry = tk.Entry(self.form_frame, width=40)\n",
    "        self.sender_entry.grid(row=0, column=1)\n",
    "\n",
    "        self.recipient_label = tk.Label(self.form_frame, text=\"Recipient's Email:\")\n",
    "        self.recipient_label.grid(row=1, column=0, sticky=\"w\")\n",
    "        self.recipient_entry = tk.Entry(self.form_frame, width=40)\n",
    "        self.recipient_entry.grid(row=1, column=1)\n",
    "\n",
    "        self.subject_label = tk.Label(self.form_frame, text=\"Subject:\")\n",
    "        self.subject_label.grid(row=2, column=0, sticky=\"w\")\n",
    "        self.subject_entry = tk.Entry(self.form_frame, width=40)\n",
    "        self.subject_entry.grid(row=2, column=1)\n",
    "\n",
    "        self.message_label = tk.Label(self.form_frame, text=\"Message:\")\n",
    "        self.message_label.grid(row=3, column=0, sticky=\"w\")\n",
    "        self.message_text = tk.Text(self.form_frame, width=40, height=10)\n",
    "        self.message_text.grid(row=4, column=0, columnspan=2)\n",
    "\n",
    "        # Create send button\n",
    "        self.send_button = tk.Button(self.form_frame, text=\"Send Email\", command=self.send_email)\n",
    "        self.send_button.grid(row=5, column=1, pady=10)\n",
    "\n",
    "    def send_email(self):\n",
    "        try:\n",
    "            # Retrieve form data\n",
    "            sender = self.sender_entry.get()\n",
    "            recipient = self.recipient_entry.get()\n",
    "            subject = self.subject_entry.get()\n",
    "            message_body = self.message_text.get('1.0', 'end')\n",
    "\n",
    "            # Set up email message\n",
    "            msg = EmailMessage()\n",
    "            msg.set_content(message_body)\n",
    "            msg['Subject'] = subject\n",
    "            msg['From'] = sender\n",
    "            msg['To'] = recipient\n",
    "\n",
    "            # Send email using SMTP server (example with Gmail)\n",
    "            # Note: You need to replace these with your actual SMTP server details\n",
    "            server = smtplib.SMTP(\"smtp.gmail.com\", 587)\n",
    "            server.starttls()\n",
    "            # For Gmail, you need to allow less secure apps or generate an App Password\n",
    "            server.login(sender, \"your_password\")  # Replace \"your_password\" with your actual password or App Password\n",
    "            server.send_message(msg)\n",
    "            server.quit()\n",
    "\n",
    "            messagebox.showinfo(\"Email Sent\", \"Your email has been sent successfully.\")\n",
    "        except Exception as e:\n",
    "            messagebox.showerror(\"Error\", f\"Failed to send email: {e}\")\n",
    "\n",
    "if __name__ == \"__main__\":\n",
    "    root = tk.Tk()\n",
    "    app = EmailForm(root)\n",
    "    root.mainloop()\n"
   ]
  },
  {
   "cell_type": "code",
   "execution_count": null,
   "metadata": {},
   "outputs": [],
   "source": []
  }
 ],
 "metadata": {
  "kernelspec": {
   "display_name": "base",
   "language": "python",
   "name": "python3"
  },
  "language_info": {
   "codemirror_mode": {
    "name": "ipython",
    "version": 3
   },
   "file_extension": ".py",
   "mimetype": "text/x-python",
   "name": "python",
   "nbconvert_exporter": "python",
   "pygments_lexer": "ipython3",
   "version": "3.10.9"
  }
 },
 "nbformat": 4,
 "nbformat_minor": 2
}
