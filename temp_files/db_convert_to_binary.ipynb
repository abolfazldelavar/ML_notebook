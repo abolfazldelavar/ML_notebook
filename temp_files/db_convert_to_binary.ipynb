{
 "cells": [
  {
   "cell_type": "code",
   "execution_count": 20,
   "metadata": {},
   "outputs": [],
   "source": [
    "import pandas as pd\n"
   ]
  },
  {
   "cell_type": "code",
   "execution_count": null,
   "metadata": {},
   "outputs": [],
   "source": [
    "\n",
    "def extract_bytes(df, num_bytes):\n",
    "    \"\"\"\n",
    "    Extracts data from a DataFrame and converts it into a list of bytes.\n",
    "\n",
    "    Parameters:\n",
    "    - df: pandas DataFrame containing columns for 'name', 'start_bit', 'length', and 'data'.\n",
    "    - num_bytes: The number of bytes to extract.\n",
    "\n",
    "    Returns:\n",
    "    - A list of bytes in hexadecimal format.\n",
    "    \"\"\"\n",
    "\n",
    "    # Calculate the total number of bits needed\n",
    "    total_bits = num_bytes * 8\n",
    "\n",
    "    # Initialize a binary string filled with zeros\n",
    "    binary_string = '0' * total_bits\n",
    "\n",
    "    # Iterate over each row in the DataFrame\n",
    "    for index, row in df.iterrows():\n",
    "        start_bit = row['start_bit']\n",
    "        length = row['length']\n",
    "        data = row['data']\n",
    "\n",
    "        # Convert the data to binary and remove any '0b' prefix\n",
    "        bin_data = bin(data)[2:].zfill(length)\n",
    "\n",
    "        # Place the binary data into the correct position in the binary string\n",
    "        binary_string = binary_string[:start_bit] + bin_data + binary_string[start_bit + length:]\n",
    "\n",
    "    # Split the binary string into bytes\n",
    "    byte_strings = [binary_string[i:i+8] for i in range(0, total_bits, 8)]\n",
    "\n",
    "    # Convert each byte string to an integer and then to hexadecimal\n",
    "    hex_bytes = [int(byte, 2) for byte in byte_strings]\n",
    "\n",
    "    return hex_bytes\n"
   ]
  },
  {
   "cell_type": "code",
   "execution_count": 52,
   "metadata": {},
   "outputs": [
    {
     "name": "stdout",
     "output_type": "stream",
     "text": [
      "[62, 0, 0, 0, 0, 0, 8, 0]\n",
      "62\n",
      "111110\n",
      "0x3e\n"
     ]
    }
   ],
   "source": [
    "\n",
    "# Example usage:\n",
    "data = {\n",
    "    'name': ['a', 'b', 'c'],\n",
    "    'start_bit': [2, 3, 52],\n",
    "    'length': [1, 4, 2],\n",
    "    'data': [1, 15, 2]\n",
    "}\n",
    "df = pd.DataFrame(data)\n",
    "\n",
    "num_bytes = 8\n",
    "result = extract_bytes(df, num_bytes)\n",
    "\n",
    "print(result)\n",
    "print(result[0])\n",
    "print(bin(result[0])[2:])\n",
    "print(hex(result[0]))\n",
    "\n"
   ]
  },
  {
   "cell_type": "code",
   "execution_count": 53,
   "metadata": {},
   "outputs": [
    {
     "data": {
      "text/html": [
       "<div>\n",
       "<style scoped>\n",
       "    .dataframe tbody tr th:only-of-type {\n",
       "        vertical-align: middle;\n",
       "    }\n",
       "\n",
       "    .dataframe tbody tr th {\n",
       "        vertical-align: top;\n",
       "    }\n",
       "\n",
       "    .dataframe thead th {\n",
       "        text-align: right;\n",
       "    }\n",
       "</style>\n",
       "<table border=\"1\" class=\"dataframe\">\n",
       "  <thead>\n",
       "    <tr style=\"text-align: right;\">\n",
       "      <th></th>\n",
       "      <th>name</th>\n",
       "      <th>start_bit</th>\n",
       "      <th>length</th>\n",
       "      <th>data</th>\n",
       "    </tr>\n",
       "  </thead>\n",
       "  <tbody>\n",
       "    <tr>\n",
       "      <th>0</th>\n",
       "      <td>a</td>\n",
       "      <td>2</td>\n",
       "      <td>1</td>\n",
       "      <td>1</td>\n",
       "    </tr>\n",
       "    <tr>\n",
       "      <th>1</th>\n",
       "      <td>b</td>\n",
       "      <td>3</td>\n",
       "      <td>4</td>\n",
       "      <td>15</td>\n",
       "    </tr>\n",
       "    <tr>\n",
       "      <th>2</th>\n",
       "      <td>c</td>\n",
       "      <td>52</td>\n",
       "      <td>2</td>\n",
       "      <td>2</td>\n",
       "    </tr>\n",
       "  </tbody>\n",
       "</table>\n",
       "</div>"
      ],
      "text/plain": [
       "  name  start_bit  length  data\n",
       "0    a          2       1     1\n",
       "1    b          3       4    15\n",
       "2    c         52       2     2"
      ]
     },
     "execution_count": 53,
     "metadata": {},
     "output_type": "execute_result"
    }
   ],
   "source": [
    "df"
   ]
  },
  {
   "cell_type": "code",
   "execution_count": null,
   "metadata": {},
   "outputs": [],
   "source": []
  }
 ],
 "metadata": {
  "kernelspec": {
   "display_name": "base",
   "language": "python",
   "name": "python3"
  },
  "language_info": {
   "codemirror_mode": {
    "name": "ipython",
    "version": 3
   },
   "file_extension": ".py",
   "mimetype": "text/x-python",
   "name": "python",
   "nbconvert_exporter": "python",
   "pygments_lexer": "ipython3",
   "version": "3.10.9"
  }
 },
 "nbformat": 4,
 "nbformat_minor": 2
}
